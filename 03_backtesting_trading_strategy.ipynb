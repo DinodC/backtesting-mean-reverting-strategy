{
 "cells": [
  {
   "cell_type": "markdown",
   "metadata": {},
   "source": [
    "# Backtesting a Trading Strategy Part 3"
   ]
  },
  {
   "cell_type": "markdown",
   "metadata": {},
   "source": [
    "## How to Backtest A Trading Strategy Using Python"
   ]
  },
  {
   "cell_type": "markdown",
   "metadata": {},
   "source": [
    "## Introduction\n",
    "Backtesting is a tool to measure the performance of a trading strategy using historical data. The backtesting process consists of three parts: 1. determining the universe of securities where we will invest in (e.g. equity or fixed income? US or emerging markets?); 2. gathering historical data for the universe of securities; and 3. implementing a trading strategy using the historical data collected.  \n",
    "\n",
    "In the previous articles, I illustrated the first two steps in the backtesting process of determining the universe of stocks, and collecting historical data for each constituent. In this article, I will illustrate the last step of the backtesting process by implementing a mean-reverting trading strategy."
   ]
  },
  {
   "cell_type": "markdown",
   "metadata": {},
   "source": [
    "## A Mean-Reverting Trading Strategy\n",
    "We implement a mean-reverting trading strategy based on [Khandain and Lo](http://web.mit.edu/Alo/www/Papers/august07.pdf). The idea is to buy the previous day's \"losers\", and sell the previous day's \"winners\". Stocks which underperform the market average are classified as \"losers\". While stocks which outperform the market average are classified as \"winners\".\n",
    "\n",
    "For each stock $i$, we calculate the weight $w_{i, t}$ at time $t$\n",
    "\n",
    "$$ w_{i, t} = - \\frac{1}{N} \\left( r_{i, t-1} - r_{market, t-1} \\right). $$\n",
    "\n",
    "where $N$ is the total number of stocks in the investment universe. Market return at time $t$ is calculated as\n",
    "\n",
    "$$ r_{market, t-1} = \\frac{1}{N} \\sum_{i=1}^{N} r_{i, t-1}. $$"
   ]
  },
  {
   "cell_type": "markdown",
   "metadata": {},
   "source": [
    "## Backtesting A Mean-Reverting Trading Strategy\n",
    "### Step By Step\n",
    "1. Load S&P historical data\n",
    "2. Implement a mean-reverting trading strategy\n",
    "3. Calculate performance metrics of the mean-reverting trading strategy"
   ]
  },
  {
   "cell_type": "markdown",
   "metadata": {},
   "source": [
    "Import packages"
   ]
  },
  {
   "cell_type": "code",
   "execution_count": 1,
   "metadata": {},
   "outputs": [],
   "source": [
    "import numpy as np"
   ]
  },
  {
   "cell_type": "code",
   "execution_count": 2,
   "metadata": {},
   "outputs": [],
   "source": [
    "import pandas as pd"
   ]
  },
  {
   "cell_type": "code",
   "execution_count": 3,
   "metadata": {},
   "outputs": [],
   "source": [
    "from pandas import Series, DataFrame"
   ]
  },
  {
   "cell_type": "code",
   "execution_count": 4,
   "metadata": {},
   "outputs": [],
   "source": [
    "import pickle"
   ]
  },
  {
   "cell_type": "code",
   "execution_count": 5,
   "metadata": {},
   "outputs": [],
   "source": [
    "import matplotlib.pyplot as plt"
   ]
  },
  {
   "cell_type": "code",
   "execution_count": 6,
   "metadata": {},
   "outputs": [],
   "source": [
    "%matplotlib inline"
   ]
  },
  {
   "cell_type": "markdown",
   "metadata": {},
   "source": [
    "### Load S&P Historical Data"
   ]
  },
  {
   "cell_type": "markdown",
   "metadata": {},
   "source": [
    "Set an id for each index"
   ]
  },
  {
   "cell_type": "code",
   "execution_count": 7,
   "metadata": {},
   "outputs": [],
   "source": [
    "id = ['sp500', 'sp400', 'sp600']"
   ]
  },
  {
   "cell_type": "markdown",
   "metadata": {},
   "source": [
    "Create a dictionary to map each id to a tickers file"
   ]
  },
  {
   "cell_type": "code",
   "execution_count": 8,
   "metadata": {},
   "outputs": [],
   "source": [
    "input_file = {'sp500': 'sp500_data.pickle',\n",
    "              'sp400': 'sp400_data.pickle',\n",
    "              'sp600': 'sp600_data.pickle'}"
   ]
  },
  {
   "cell_type": "markdown",
   "metadata": {},
   "source": [
    "Create a dictionary to map each id to a S&P historical data"
   ]
  },
  {
   "cell_type": "code",
   "execution_count": 9,
   "metadata": {},
   "outputs": [],
   "source": [
    "sp500_data = pd.DataFrame()\n",
    "sp400_data = pd.DataFrame()\n",
    "sp600_data = pd.DataFrame()\n",
    "sp_data = {'sp500': sp500_data,\n",
    "           'sp400': sp400_data,\n",
    "           'sp600': sp600_data}"
   ]
  },
  {
   "cell_type": "markdown",
   "metadata": {},
   "source": [
    "Retrieve S&P historical data"
   ]
  },
  {
   "cell_type": "code",
   "execution_count": 10,
   "metadata": {},
   "outputs": [],
   "source": [
    "for i in id:\n",
    "    # Load data \n",
    "    with open(input_file[i], 'rb') as f:\n",
    "        sp_data[i] = pickle.load(f)\n",
    "    f.close()\n",
    "    \n",
    "    # Select close prices\n",
    "    sp_data[i] = sp_data[i].close"
   ]
  },
  {
   "cell_type": "markdown",
   "metadata": {},
   "source": [
    "### Implement A Mean-Reverting Trading Strategy"
   ]
  },
  {
   "cell_type": "markdown",
   "metadata": {},
   "source": [
    "Create a dictionary to map each id to a S&P returns data"
   ]
  },
  {
   "cell_type": "code",
   "execution_count": 11,
   "metadata": {},
   "outputs": [],
   "source": [
    "sp500_returns = DataFrame()\n",
    "sp400_returns = DataFrame()\n",
    "sp600_returns = DataFrame()\n",
    "sp_returns = {'sp500': sp500_returns,\n",
    "              'sp400': sp400_returns,\n",
    "              'sp600': sp600_returns}"
   ]
  },
  {
   "cell_type": "markdown",
   "metadata": {},
   "source": [
    "Create a dictionary to map each id to a S&P market returns data"
   ]
  },
  {
   "cell_type": "code",
   "execution_count": 12,
   "metadata": {},
   "outputs": [],
   "source": [
    "sp500_market_returns = Series()\n",
    "sp400_market_returns = Series()\n",
    "sp600_market_returns = Series()\n",
    "sp_market_returns = {'sp500': sp500_market_returns,\n",
    "                     'sp400': sp400_market_returns,\n",
    "                     'sp600': sp600_market_returns}"
   ]
  },
  {
   "cell_type": "markdown",
   "metadata": {},
   "source": [
    "Create a dictionary to map each id to a trading strategy weighting"
   ]
  },
  {
   "cell_type": "code",
   "execution_count": 13,
   "metadata": {},
   "outputs": [],
   "source": [
    "sp500_weights = DataFrame()\n",
    "sp400_weights = DataFrame()\n",
    "sp600_weights = DataFrame()\n",
    "sp_weights = {'sp500': sp500_weights,\n",
    "              'sp400': sp400_weights,\n",
    "              'sp600': sp600_weights}"
   ]
  },
  {
   "cell_type": "markdown",
   "metadata": {},
   "source": [
    "Create a dictionary to map each id to a trading strategy pnl per stock"
   ]
  },
  {
   "cell_type": "code",
   "execution_count": 14,
   "metadata": {},
   "outputs": [],
   "source": [
    "sp500_pnl = DataFrame()\n",
    "sp400_pnl = DataFrame()\n",
    "sp600_pnl = DataFrame()\n",
    "sp_pnl = {'sp500': sp500_pnl,\n",
    "          'sp400': sp400_pnl,\n",
    "          'sp600': sp600_pnl}"
   ]
  },
  {
   "cell_type": "markdown",
   "metadata": {},
   "source": [
    "Create a dictionary to map each id to a trading strategy pnl"
   ]
  },
  {
   "cell_type": "code",
   "execution_count": 15,
   "metadata": {},
   "outputs": [],
   "source": [
    "sp500_pnl_net = Series()\n",
    "sp400_pnl_net = Series()\n",
    "sp600_pnl_net = Series()\n",
    "sp_pnl_net = {'sp500': sp500_pnl_net,\n",
    "              'sp400': sp400_pnl_net,\n",
    "              'sp600': sp600_pnl_net}"
   ]
  },
  {
   "cell_type": "markdown",
   "metadata": {},
   "source": [
    "Implement the mean-reverting trading strategy on investment universes: S&P 500, S&P MidCap 400, and S&P SmallCap indices"
   ]
  },
  {
   "cell_type": "code",
   "execution_count": 16,
   "metadata": {},
   "outputs": [],
   "source": [
    "for i in id:\n",
    "    \n",
    "    # Calculate the returns\n",
    "    sp_returns[i] = sp_data[i].pct_change()\n",
    "    \n",
    "    # Calculate the equally weighted market returns\n",
    "    sp_market_returns[i] = sp_returns[i].mean(axis='columns')\n",
    "    \n",
    "    # Calculate the weights of each stock\n",
    "    sp_weights[i] = - (sp_returns[i].sub(sp_market_returns[i], axis='index')).div(sp_data[i].count(axis='columns'), axis='index')\n",
    "    \n",
    "    # Adjust the weights to 0 if price or return is NaN\n",
    "    sp_weights[i][sp_data[i].isna() | sp_data[i].shift(periods=1).isna()] = 0\n",
    "    \n",
    "    # Calculate the daily pnl\n",
    "    # Idea is to buy yesterday's losers, and sell yesterday's winners\n",
    "    sp_pnl[i] = (sp_weights[i].shift(periods=1)).mul(sp_returns[i], axis='index')\n",
    "    sp_pnl_net[i] = sp_pnl[i].sum(axis='columns')\n",
    "    "
   ]
  },
  {
   "cell_type": "markdown",
   "metadata": {},
   "source": [
    "Plot the cumulative pnl of the mean-reverting strategy by investment universe"
   ]
  },
  {
   "cell_type": "code",
   "execution_count": 17,
   "metadata": {},
   "outputs": [
    {
     "data": {
      "text/plain": [
       "<matplotlib.legend.Legend at 0x117a84208>"
      ]
     },
     "execution_count": 17,
     "metadata": {},
     "output_type": "execute_result"
    },
    {
     "data": {
      "image/png": "[encoded data removed]",
      "text/plain": [
       "<Figure size 432x288 with 1 Axes>"
      ]
     },
     "metadata": {
      "needs_background": "light"
     },
     "output_type": "display_data"
    }
   ],
   "source": [
    "sp_pnl_net['sp500'].cumsum().plot()\n",
    "sp_pnl_net['sp400'].cumsum().plot()\n",
    "sp_pnl_net['sp600'].cumsum().plot()\n",
    "plt.legend(id)"
   ]
  },
  {
   "cell_type": "markdown",
   "metadata": {},
   "source": [
    "### Calculate Performance Metrics of the Mean-Reverting Trading Strategy"
   ]
  },
  {
   "cell_type": "markdown",
   "metadata": {},
   "source": [
    "### Sharpe Ratio\n",
    "1. What?\n",
    "2. How?\n",
    "3. ?"
   ]
  },
  {
   "cell_type": "markdown",
   "metadata": {},
   "source": [
    "Divide the periods of observation"
   ]
  },
  {
   "cell_type": "code",
   "execution_count": 18,
   "metadata": {},
   "outputs": [],
   "source": [
    "period = ['2014-01-01', '2015-01-01', '2016-01-01', '2017-01-01', '2018-01-01', '2019-01-01']"
   ]
  },
  {
   "cell_type": "markdown",
   "metadata": {},
   "source": [
    "Create a dictionary to map each id to a trading performance"
   ]
  },
  {
   "cell_type": "code",
   "execution_count": 19,
   "metadata": {},
   "outputs": [],
   "source": [
    "sp500_performance = pd.DataFrame()\n",
    "sp400_performance = pd.DataFrame()\n",
    "sp600_performance = pd.DataFrame()\n",
    "sp_performance = {'sp500': sp500_performance,\n",
    "                  'sp400': sp400_performance,\n",
    "                  'sp600': sp600_performance}"
   ]
  },
  {
   "cell_type": "markdown",
   "metadata": {},
   "source": [
    "Calculate the trading strategy's annualized Sharpe ratio, average daily returns and standard deviation"
   ]
  },
  {
   "cell_type": "code",
   "execution_count": 20,
   "metadata": {},
   "outputs": [],
   "source": [
    "for i in id:\n",
    "    \n",
    "    # Initialize performance measures\n",
    "    avg_returns = []\n",
    "    std_returns = []\n",
    "    sharpe = []\n",
    "    \n",
    "    # Calculate performance measures\n",
    "    for j in range(len(period) - 1):\n",
    "        # Period of observation\n",
    "        start = period[j]\n",
    "        end = period[j + 1]\n",
    "        \n",
    "        # Calculate average daily returns\n",
    "        avg_returns.append(sp_pnl_net[i][start:end].mean())\n",
    "        \n",
    "        # Calculate standard deviation of daily returns\n",
    "        std_returns.append(sp_pnl_net[i][start:end].std())\n",
    "        \n",
    "        # Calculate Sharpe ratio\n",
    "        sharpe.append(np.sqrt(252) * avg_returns[j] / std_returns[j])\n",
    "        \n",
    "    # Update performance measures DataFrame\n",
    "    sp_performance[i] = pd.DataFrame({'Avg Daily Returns': avg_returns,\n",
    "                                      'Std Daily Returns': std_returns,\n",
    "                                      'Sharpe Ratio': sharpe},\n",
    "                                    index=['2014', '2015', '2016', '2017', '2018'])\n",
    "    "
   ]
  },
  {
   "cell_type": "markdown",
   "metadata": {},
   "source": [
    "Comparison of the trading strategy deployed on different investment universes"
   ]
  },
  {
   "cell_type": "markdown",
   "metadata": {},
   "source": [
    "Sharpe ratio"
   ]
  },
  {
   "cell_type": "code",
   "execution_count": 21,
   "metadata": {},
   "outputs": [],
   "source": [
    "sp_sharpe = pd.DataFrame({'S&P 500': sp_performance['sp500']['Sharpe Ratio'],\n",
    "                          'S&P 400': sp_performance['sp400']['Sharpe Ratio'],\n",
    "                          'S&P 600': sp_performance['sp600']['Sharpe Ratio']})"
   ]
  },
  {
   "cell_type": "code",
   "execution_count": 22,
   "metadata": {},
   "outputs": [
    {
     "data": {
      "text/html": [
       "<div>\n",
       "<style scoped>\n",
       "    .dataframe tbody tr th:only-of-type {\n",
       "        vertical-align: middle;\n",
       "    }\n",
       "\n",
       "    .dataframe tbody tr th {\n",
       "        vertical-align: top;\n",
       "    }\n",
       "\n",
       "    .dataframe thead th {\n",
       "        text-align: right;\n",
       "    }\n",
       "</style>\n",
       "<table border=\"1\" class=\"dataframe\">\n",
       "  <thead>\n",
       "    <tr style=\"text-align: right;\">\n",
       "      <th></th>\n",
       "      <th>S&amp;P 500</th>\n",
       "      <th>S&amp;P 400</th>\n",
       "      <th>S&amp;P 600</th>\n",
       "    </tr>\n",
       "  </thead>\n",
       "  <tbody>\n",
       "    <tr>\n",
       "      <th>2014</th>\n",
       "      <td>2.363955</td>\n",
       "      <td>1.612314</td>\n",
       "      <td>1.492651</td>\n",
       "    </tr>\n",
       "    <tr>\n",
       "      <th>2015</th>\n",
       "      <td>-0.136814</td>\n",
       "      <td>-1.462997</td>\n",
       "      <td>0.896777</td>\n",
       "    </tr>\n",
       "    <tr>\n",
       "      <th>2016</th>\n",
       "      <td>-0.319982</td>\n",
       "      <td>-0.571094</td>\n",
       "      <td>1.291112</td>\n",
       "    </tr>\n",
       "    <tr>\n",
       "      <th>2017</th>\n",
       "      <td>1.535338</td>\n",
       "      <td>1.259514</td>\n",
       "      <td>2.358388</td>\n",
       "    </tr>\n",
       "    <tr>\n",
       "      <th>2018</th>\n",
       "      <td>1.813055</td>\n",
       "      <td>1.471451</td>\n",
       "      <td>1.326466</td>\n",
       "    </tr>\n",
       "  </tbody>\n",
       "</table>\n",
       "</div>"
      ],
      "text/plain": [
       "       S&P 500   S&P 400   S&P 600\n",
       "2014  2.363955  1.612314  1.492651\n",
       "2015 -0.136814 -1.462997  0.896777\n",
       "2016 -0.319982 -0.571094  1.291112\n",
       "2017  1.535338  1.259514  2.358388\n",
       "2018  1.813055  1.471451  1.326466"
      ]
     },
     "execution_count": 22,
     "metadata": {},
     "output_type": "execute_result"
    }
   ],
   "source": [
    "sp_sharpe"
   ]
  },
  {
   "cell_type": "markdown",
   "metadata": {},
   "source": [
    "Average of daily returns"
   ]
  },
  {
   "cell_type": "code",
   "execution_count": 23,
   "metadata": {},
   "outputs": [],
   "source": [
    "sp_avg_returns = pd.DataFrame({'S&P 500': (sp_performance['sp500']['Avg Daily Returns'] * 100).round(4).astype('str') + '%',\n",
    "                               'S&P 400': (sp_performance['sp400']['Avg Daily Returns'] * 100).round(4).astype('str') + '%',\n",
    "                               'S&P 600': (sp_performance['sp600']['Avg Daily Returns'] * 100).round(4).astype('str') + '%'})"
   ]
  },
  {
   "cell_type": "code",
   "execution_count": 24,
   "metadata": {},
   "outputs": [
    {
     "data": {
      "text/html": [
       "<div>\n",
       "<style scoped>\n",
       "    .dataframe tbody tr th:only-of-type {\n",
       "        vertical-align: middle;\n",
       "    }\n",
       "\n",
       "    .dataframe tbody tr th {\n",
       "        vertical-align: top;\n",
       "    }\n",
       "\n",
       "    .dataframe thead th {\n",
       "        text-align: right;\n",
       "    }\n",
       "</style>\n",
       "<table border=\"1\" class=\"dataframe\">\n",
       "  <thead>\n",
       "    <tr style=\"text-align: right;\">\n",
       "      <th></th>\n",
       "      <th>S&amp;P 500</th>\n",
       "      <th>S&amp;P 400</th>\n",
       "      <th>S&amp;P 600</th>\n",
       "    </tr>\n",
       "  </thead>\n",
       "  <tbody>\n",
       "    <tr>\n",
       "      <th>2014</th>\n",
       "      <td>0.0007%</td>\n",
       "      <td>0.001%</td>\n",
       "      <td>0.0012%</td>\n",
       "    </tr>\n",
       "    <tr>\n",
       "      <th>2015</th>\n",
       "      <td>-0.0%</td>\n",
       "      <td>-0.0007%</td>\n",
       "      <td>0.0004%</td>\n",
       "    </tr>\n",
       "    <tr>\n",
       "      <th>2016</th>\n",
       "      <td>-0.0001%</td>\n",
       "      <td>-0.0004%</td>\n",
       "      <td>0.001%</td>\n",
       "    </tr>\n",
       "    <tr>\n",
       "      <th>2017</th>\n",
       "      <td>0.0008%</td>\n",
       "      <td>0.0009%</td>\n",
       "      <td>0.0016%</td>\n",
       "    </tr>\n",
       "    <tr>\n",
       "      <th>2018</th>\n",
       "      <td>0.0004%</td>\n",
       "      <td>0.0004%</td>\n",
       "      <td>0.0004%</td>\n",
       "    </tr>\n",
       "  </tbody>\n",
       "</table>\n",
       "</div>"
      ],
      "text/plain": [
       "       S&P 500   S&P 400  S&P 600\n",
       "2014   0.0007%    0.001%  0.0012%\n",
       "2015     -0.0%  -0.0007%  0.0004%\n",
       "2016  -0.0001%  -0.0004%   0.001%\n",
       "2017   0.0008%   0.0009%  0.0016%\n",
       "2018   0.0004%   0.0004%  0.0004%"
      ]
     },
     "execution_count": 24,
     "metadata": {},
     "output_type": "execute_result"
    }
   ],
   "source": [
    "sp_avg_returns"
   ]
  },
  {
   "cell_type": "markdown",
   "metadata": {},
   "source": [
    "Standard deviation of daily returns"
   ]
  },
  {
   "cell_type": "code",
   "execution_count": 25,
   "metadata": {},
   "outputs": [],
   "source": [
    "sp_std_returns = pd.DataFrame({'S&P 500': (sp_performance['sp500']['Std Daily Returns'] * 100).round(4).astype('str') + '%',\n",
    "                               'S&P 400': (sp_performance['sp400']['Std Daily Returns'] * 100).round(4).astype('str') + '%',\n",
    "                               'S&P 600': (sp_performance['sp600']['Std Daily Returns'] * 100).round(4).astype('str') + '%',})"
   ]
  },
  {
   "cell_type": "code",
   "execution_count": 26,
   "metadata": {},
   "outputs": [
    {
     "data": {
      "text/html": [
       "<div>\n",
       "<style scoped>\n",
       "    .dataframe tbody tr th:only-of-type {\n",
       "        vertical-align: middle;\n",
       "    }\n",
       "\n",
       "    .dataframe tbody tr th {\n",
       "        vertical-align: top;\n",
       "    }\n",
       "\n",
       "    .dataframe thead th {\n",
       "        text-align: right;\n",
       "    }\n",
       "</style>\n",
       "<table border=\"1\" class=\"dataframe\">\n",
       "  <thead>\n",
       "    <tr style=\"text-align: right;\">\n",
       "      <th></th>\n",
       "      <th>S&amp;P 500</th>\n",
       "      <th>S&amp;P 400</th>\n",
       "      <th>S&amp;P 600</th>\n",
       "    </tr>\n",
       "  </thead>\n",
       "  <tbody>\n",
       "    <tr>\n",
       "      <th>2014</th>\n",
       "      <td>0.0049%</td>\n",
       "      <td>0.0095%</td>\n",
       "      <td>0.0123%</td>\n",
       "    </tr>\n",
       "    <tr>\n",
       "      <th>2015</th>\n",
       "      <td>0.0029%</td>\n",
       "      <td>0.0075%</td>\n",
       "      <td>0.0071%</td>\n",
       "    </tr>\n",
       "    <tr>\n",
       "      <th>2016</th>\n",
       "      <td>0.0068%</td>\n",
       "      <td>0.0111%</td>\n",
       "      <td>0.012%</td>\n",
       "    </tr>\n",
       "    <tr>\n",
       "      <th>2017</th>\n",
       "      <td>0.0084%</td>\n",
       "      <td>0.0112%</td>\n",
       "      <td>0.0106%</td>\n",
       "    </tr>\n",
       "    <tr>\n",
       "      <th>2018</th>\n",
       "      <td>0.0037%</td>\n",
       "      <td>0.004%</td>\n",
       "      <td>0.0049%</td>\n",
       "    </tr>\n",
       "  </tbody>\n",
       "</table>\n",
       "</div>"
      ],
      "text/plain": [
       "      S&P 500  S&P 400  S&P 600\n",
       "2014  0.0049%  0.0095%  0.0123%\n",
       "2015  0.0029%  0.0075%  0.0071%\n",
       "2016  0.0068%  0.0111%   0.012%\n",
       "2017  0.0084%  0.0112%  0.0106%\n",
       "2018  0.0037%   0.004%  0.0049%"
      ]
     },
     "execution_count": 26,
     "metadata": {},
     "output_type": "execute_result"
    }
   ],
   "source": [
    "sp_std_returns"
   ]
  },
  {
   "cell_type": "markdown",
   "metadata": {},
   "source": [
    "### Potential Improvements\n",
    "To do\n",
    "1. Transactions costs\n",
    "2. Biasses\n",
    "3. ?"
   ]
  },
  {
   "cell_type": "markdown",
   "metadata": {},
   "source": [
    "## Conclusion\n",
    "In this article, we implemented a mean-reverting trading strategy backtested it on our universe of stocks - the S&P 500, S&P MidCap 400 and S&P SmallCap 600 indices. The mean-reverting trading strategy performs best on the S&P 600 index which composed of small-capitalization stocks. In the next articles, we improve the backtesting process by including transaction costs and correcting for biasses. "
   ]
  }
 ],
 "metadata": {
  "kernelspec": {
   "display_name": "Python 3",
   "language": "python",
   "name": "python3"
  },
  "language_info": {
   "codemirror_mode": {
    "name": "ipython",
    "version": 3
   },
   "file_extension": ".py",
   "mimetype": "text/x-python",
   "name": "python",
   "nbconvert_exporter": "python",
   "pygments_lexer": "ipython3",
   "version": "3.7.1"
  }
 },
 "nbformat": 4,
 "nbformat_minor": 2
}
