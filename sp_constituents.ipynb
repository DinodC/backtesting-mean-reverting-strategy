{
 "cells": [
  {
   "cell_type": "markdown",
   "metadata": {},
   "source": [
    "# How to Use S&P Indices as Investment Universe"
   ]
  },
  {
   "cell_type": "markdown",
   "metadata": {},
   "source": [
    "## Introduction\n",
    "I'm currently researching quantitative trading strategies, and would like to share how to use the Standard & Poor's indices as your investment universe.\n",
    "\n",
    "When you're backtesting an investment strategy, the initial step is to decide the universe of stocks which you want to consider. A natural choice is to pick the Standard & Poor's 500 Index as your universe because it is composed of shares of the 500 largest companies in the US, and more importantly, it provides a list of the most liquid stocks. \n",
    "\n",
    "Threading your way through this direction means that you need to collect the list of S&P indices constituents. However, this information is not available on the S&P Dow Jones Indices' website https://us.spindices.com. Also, I contacted their office in Hong Kong, and was informed that the list is only provided to the company's subscribers. Consequently, you will need to retrieve the list from alternative sources.\n",
    "\n",
    "After a quick search on Google, two alternative sources presented itself: a possible source is https://en.wikipedia.org; and another is https://www.barchart.com. Wikipedia provides the S&P index constituents in the form of a html table, which we will need to scrape using Python library [BeautifulSoup](https://www.crummy.com/software/BeautifulSoup/bs4/doc/). Barchart provides S&P index constituents as convenient downloadble csv files as long as you have an account (the basic one is free).  \n",
    "\n",
    "Below I will provide a step-by-step guide on getting and wrangling data from the providers mentioned above. But before that, the next section will provide an overview of the S&P 500 Index as well as the S&P MidCap 400 and S&P SmallCap 600 indices."
   ]
  },
  {
   "cell_type": "markdown",
   "metadata": {},
   "source": [
    "## Review of Standard & Poor's Indices\n",
    "In this section, I provide a quick presentation of the indices which we could consider as stock universe.\n",
    "\n",
    "### S&P 500 Index\n",
    "- The [S&P 500 Index](https://us.spindices.com/indices/equity/sp-500) or the _S&P 500_ is a market capitalization-weighted index of the 500 largest US companies.\n",
    "- The S&P 500 is viewed as the best gauge of large-cap US equity market.\n",
    "- The S&P 500 has 505 constituents with a median capitalization of USD 22.3B. Note that some companies has several classes of shares like Alphabet. \n",
    "\n",
    "\n",
    "### S&P MidCap 400 Index\n",
    "- The [S&P MidCap 400 Index](https://us.spindices.com/indices/equity/sp-400) or the _S&P 400_ is a market capitalization-weighted index.\n",
    "- The S&P 400 serves as a benchmark for mid-cap US equity market.\n",
    "- The S&P 400 has 400 constituents with a median capitalization of USD 4.2B.\n",
    "\n",
    "### S&P SmallCap 600 Index\n",
    "- The [S&P SmallCap 600 Index](https://us.spindices.com/indices/equity/sp-600) or the _S&P 600_ is a market capitalization-weighted index.\n",
    "- The S&P 600 serves as a benchmark for small-cap US equity market.\n",
    "- The S&P has 601 constituents with a median capitalization of USD 1.2B.\n",
    "\n",
    "For more information you could also check https://www.investopedia.com. "
   ]
  },
  {
   "cell_type": "markdown",
   "metadata": {},
   "source": [
    "## Main"
   ]
  },
  {
   "cell_type": "markdown",
   "metadata": {},
   "source": [
    "You can find the code below on https://github.com/DinodC/sp-constituents."
   ]
  },
  {
   "cell_type": "markdown",
   "metadata": {},
   "source": [
    "Import packages"
   ]
  },
  {
   "cell_type": "code",
   "execution_count": 1,
   "metadata": {},
   "outputs": [],
   "source": [
    "import numpy as np"
   ]
  },
  {
   "cell_type": "code",
   "execution_count": 2,
   "metadata": {},
   "outputs": [],
   "source": [
    "import pandas as pd"
   ]
  },
  {
   "cell_type": "code",
   "execution_count": 3,
   "metadata": {},
   "outputs": [],
   "source": [
    "import requests as re"
   ]
  },
  {
   "cell_type": "code",
   "execution_count": 4,
   "metadata": {},
   "outputs": [],
   "source": [
    "from bs4 import BeautifulSoup"
   ]
  },
  {
   "cell_type": "code",
   "execution_count": 5,
   "metadata": {},
   "outputs": [],
   "source": [
    "import pickle"
   ]
  },
  {
   "cell_type": "markdown",
   "metadata": {},
   "source": [
    "## Wikipedia"
   ]
  },
  {
   "cell_type": "markdown",
   "metadata": {},
   "source": [
    "Set the pages we want to scrape S&P indices data from https://en.wikipedia.org. Note that page for S&P 600 list of constituents does not exists. However, we can deduce the list from S&P 1000 which is just a combination of the S&P 400 and S&P 600."
   ]
  },
  {
   "cell_type": "code",
   "execution_count": 6,
   "metadata": {},
   "outputs": [],
   "source": [
    "page = ['https://en.wikipedia.org/wiki/List_of_S%26P_500_companies',\n",
    "        'https://en.wikipedia.org/wiki/List_of_S%26P_400_companies',\n",
    "        'https://en.wikipedia.org/wiki/List_of_S%26P_1000_companies']"
   ]
  },
  {
   "cell_type": "markdown",
   "metadata": {},
   "source": [
    "Define the files we want to store extracted data to"
   ]
  },
  {
   "cell_type": "code",
   "execution_count": 7,
   "metadata": {},
   "outputs": [],
   "source": [
    "file = ['sp500_wikipedia.pickle',\n",
    "        'sp400_wikipedia.pickle',\n",
    "        'sp1000_wikipedia.pickle']"
   ]
  },
  {
   "cell_type": "markdown",
   "metadata": {},
   "source": [
    "The code below scrapes data using [BeautifulSoup](https://www.crummy.com/software/BeautifulSoup/bs4/doc/), and saves the extracted data using [pickle](https://docs.python.org/3/library/pickle.html)"
   ]
  },
  {
   "cell_type": "code",
   "execution_count": 8,
   "metadata": {},
   "outputs": [],
   "source": [
    "for i in range(len(page)):\n",
    "    \n",
    "    # Get URL    \n",
    "    r = re.get(page[i])\n",
    "    \n",
    "    # Create a soup object \n",
    "    soup = BeautifulSoup(r.text)\n",
    "    \n",
    "    # Find S&P constituents table\n",
    "    table = soup.find('table', attrs={'class', 'wikitable sortable'})\n",
    "    \n",
    "    # Get the rows containing the tickers\n",
    "    tickers = table.find_all('a', attrs={'class', 'external text'})\n",
    "    # find_all returns tickers and SEC fillings, get tickers only\n",
    "    tickers = tickers[::2]\n",
    "    \n",
    "    # Create a list containing the tickers\n",
    "    sp = []\n",
    "    for j in range(len(tickers)):\n",
    "        sp.append(tickers[j].text)\n",
    "        \n",
    "    # Save the list to a file\n",
    "    output = open(file[i], 'wb')\n",
    "    pickle.dump(sp, output)\n",
    "    output.close()\n",
    "    "
   ]
  },
  {
   "cell_type": "markdown",
   "metadata": {},
   "source": [
    "Define the S&P constituents lists from Wikipedia"
   ]
  },
  {
   "cell_type": "code",
   "execution_count": 9,
   "metadata": {},
   "outputs": [],
   "source": [
    "sp500_wikipedia = []\n",
    "sp400_wikipedia = []\n",
    "sp1000_wikipedia = []\n",
    "sp_wikipedia = [sp500_wikipedia,\n",
    "                sp400_wikipedia,\n",
    "                sp1000_wikipedia]"
   ]
  },
  {
   "cell_type": "markdown",
   "metadata": {},
   "source": [
    "Load the pickled data to the `sp_wikipedia`"
   ]
  },
  {
   "cell_type": "code",
   "execution_count": 10,
   "metadata": {},
   "outputs": [],
   "source": [
    "for i in range(len(sp_wikipedia)):\n",
    "    with open(file[i], 'rb') as f:\n",
    "        sp_wikipedia[i]= pickle.load(f)\n",
    "    f.close()"
   ]
  },
  {
   "cell_type": "markdown",
   "metadata": {},
   "source": [
    "Check the number of constituents, it should be equal to 505"
   ]
  },
  {
   "cell_type": "code",
   "execution_count": 11,
   "metadata": {},
   "outputs": [],
   "source": [
    "sp500_wikipedia = sp_wikipedia[0]"
   ]
  },
  {
   "cell_type": "code",
   "execution_count": 12,
   "metadata": {},
   "outputs": [
    {
     "data": {
      "text/plain": [
       "505"
      ]
     },
     "execution_count": 12,
     "metadata": {},
     "output_type": "execute_result"
    }
   ],
   "source": [
    "len(sp500_wikipedia)"
   ]
  },
  {
   "cell_type": "markdown",
   "metadata": {},
   "source": [
    "Check the number of constituents, it should be equal to 400"
   ]
  },
  {
   "cell_type": "code",
   "execution_count": 13,
   "metadata": {},
   "outputs": [],
   "source": [
    "sp400_wikipedia = sp_wikipedia[1]"
   ]
  },
  {
   "cell_type": "code",
   "execution_count": 14,
   "metadata": {},
   "outputs": [
    {
     "data": {
      "text/plain": [
       "400"
      ]
     },
     "execution_count": 14,
     "metadata": {},
     "output_type": "execute_result"
    }
   ],
   "source": [
    "len(sp400_wikipedia)"
   ]
  },
  {
   "cell_type": "markdown",
   "metadata": {},
   "source": [
    "Check the number of constituents, it should be equal to 1001"
   ]
  },
  {
   "cell_type": "code",
   "execution_count": 15,
   "metadata": {},
   "outputs": [],
   "source": [
    "sp1000_wikipedia = sp_wikipedia[2]"
   ]
  },
  {
   "cell_type": "code",
   "execution_count": 16,
   "metadata": {},
   "outputs": [
    {
     "data": {
      "text/plain": [
       "1001"
      ]
     },
     "execution_count": 16,
     "metadata": {},
     "output_type": "execute_result"
    }
   ],
   "source": [
    "len(sp1000_wikipedia)"
   ]
  },
  {
   "cell_type": "markdown",
   "metadata": {},
   "source": [
    "Create a list of S&P 600 constituents given that the S&P 1000 index is the sum of S&P 400 and S&P 600 indices"
   ]
  },
  {
   "cell_type": "code",
   "execution_count": 17,
   "metadata": {},
   "outputs": [],
   "source": [
    "sp600_wikipedia = list(set(sp1000_wikipedia) - set(sp400_wikipedia))"
   ]
  },
  {
   "cell_type": "code",
   "execution_count": 18,
   "metadata": {},
   "outputs": [
    {
     "data": {
      "text/plain": [
       "598"
      ]
     },
     "execution_count": 18,
     "metadata": {},
     "output_type": "execute_result"
    }
   ],
   "source": [
    "len(sp600_wikipedia)"
   ]
  },
  {
   "cell_type": "markdown",
   "metadata": {},
   "source": [
    "In total, Wikipedia tickers in total are only 598, while [S&P Dow Jones Indices](https://www.spindices.com/indices/equity/sp-600) indicate that there should be 601:\n",
    "- The 3 tickers missing should be due to the fact that S&P 600 list is deduced from S&P 400 and S&P 100 indices, and \n",
    "- There could be a possible timing difference when the consituents of SP 400 and SP 1000 indices where updated on Wikipedia."
   ]
  },
  {
   "cell_type": "markdown",
   "metadata": {},
   "source": [
    "## Barchart"
   ]
  },
  {
   "cell_type": "markdown",
   "metadata": {},
   "source": [
    "We download the below files in csv format from https://www.barchart.com. Note that you need to sign up first, free of charge, before getting access."
   ]
  },
  {
   "cell_type": "code",
   "execution_count": 19,
   "metadata": {},
   "outputs": [],
   "source": [
    "path = ['s&p-500-index-05-04-2019.csv',\n",
    "        'sp-400-index-05-04-2019.csv',\n",
    "        'sp-600-index-05-04-2019.csv']"
   ]
  },
  {
   "cell_type": "markdown",
   "metadata": {},
   "source": [
    "Define the files we want to store extracted data to"
   ]
  },
  {
   "cell_type": "code",
   "execution_count": 20,
   "metadata": {},
   "outputs": [],
   "source": [
    "file = ['sp500_barchart.pickle',\n",
    "        'sp400_barchart.pickle',\n",
    "        'sp600_barchart.pickle']"
   ]
  },
  {
   "cell_type": "markdown",
   "metadata": {},
   "source": [
    "The code below reads the data from the csv file, stores it to a DataFrame object, and saves the extracted information using [pickle](https://docs.python.org/3/library/pickle.html)"
   ]
  },
  {
   "cell_type": "code",
   "execution_count": 21,
   "metadata": {},
   "outputs": [],
   "source": [
    "for i in range(len(path)):\n",
    "    \n",
    "    # Read data to a DataFrame\n",
    "    data = pd.read_csv(path[i])\n",
    "    # Exclude the last line since it does not contain a ticker\n",
    "    data = data[:-1]\n",
    "    \n",
    "    # Create a list containing the tickers\n",
    "    sp = []\n",
    "    for j in range(len(data['Symbol'])):\n",
    "        sp.append(data['Symbol'].iloc[j])\n",
    "        \n",
    "    # Save the list to a file\n",
    "    output = open(file[i], 'wb')\n",
    "    pickle.dump(sp, output)\n",
    "    output.close()"
   ]
  },
  {
   "cell_type": "markdown",
   "metadata": {},
   "source": [
    "Define the S&P constituents lists from Barchart"
   ]
  },
  {
   "cell_type": "code",
   "execution_count": 22,
   "metadata": {},
   "outputs": [],
   "source": [
    "sp500_barchart = []\n",
    "sp400_barchart = []\n",
    "sp1000_barchart = []\n",
    "sp_barchart = [sp500_barchart,\n",
    "                sp400_barchart,\n",
    "                sp1000_barchart]"
   ]
  },
  {
   "cell_type": "markdown",
   "metadata": {},
   "source": [
    "Load the pickled data to the `sp_barchart`"
   ]
  },
  {
   "cell_type": "code",
   "execution_count": 23,
   "metadata": {},
   "outputs": [],
   "source": [
    "for i in range(len(sp_barchart)):\n",
    "    with open(file[i], 'rb') as f:\n",
    "        sp_barchart[i]= pickle.load(f)\n",
    "    f.close()"
   ]
  },
  {
   "cell_type": "markdown",
   "metadata": {},
   "source": [
    "Check the number of constituents, it should be equal to 505 according to [S&P Dow Jones Indices](https://us.spindices.com/indices/equity/sp-500)"
   ]
  },
  {
   "cell_type": "code",
   "execution_count": 24,
   "metadata": {},
   "outputs": [],
   "source": [
    "sp500_barchart = sp_barchart[0]"
   ]
  },
  {
   "cell_type": "code",
   "execution_count": 25,
   "metadata": {},
   "outputs": [
    {
     "data": {
      "text/plain": [
       "505"
      ]
     },
     "execution_count": 25,
     "metadata": {},
     "output_type": "execute_result"
    }
   ],
   "source": [
    "len(sp500_barchart)"
   ]
  },
  {
   "cell_type": "markdown",
   "metadata": {},
   "source": [
    "Check the number of constituents, it should be equal to 400 according to [S&P Dow Jones Indices](https://us.spindices.com/indices/equity/sp-400)"
   ]
  },
  {
   "cell_type": "code",
   "execution_count": 26,
   "metadata": {},
   "outputs": [],
   "source": [
    "sp400_barchart = sp_barchart[1]"
   ]
  },
  {
   "cell_type": "code",
   "execution_count": 27,
   "metadata": {},
   "outputs": [
    {
     "data": {
      "text/plain": [
       "400"
      ]
     },
     "execution_count": 27,
     "metadata": {},
     "output_type": "execute_result"
    }
   ],
   "source": [
    "len(sp400_barchart)"
   ]
  },
  {
   "cell_type": "markdown",
   "metadata": {},
   "source": [
    "Check the number of constituents, it should be equal to 601 according to [S&P Dow Jones Indices](https://us.spindices.com/indices/equity/sp-600)"
   ]
  },
  {
   "cell_type": "code",
   "execution_count": 28,
   "metadata": {},
   "outputs": [],
   "source": [
    "sp600_barchart = sp_barchart[2]"
   ]
  },
  {
   "cell_type": "code",
   "execution_count": 29,
   "metadata": {},
   "outputs": [
    {
     "data": {
      "text/plain": [
       "601"
      ]
     },
     "execution_count": 29,
     "metadata": {},
     "output_type": "execute_result"
    }
   ],
   "source": [
    "len(sp600_barchart)"
   ]
  },
  {
   "cell_type": "markdown",
   "metadata": {},
   "source": [
    "## Comparison between Wikipedia and Barchart"
   ]
  },
  {
   "cell_type": "markdown",
   "metadata": {},
   "source": [
    "### S&P 500 Index"
   ]
  },
  {
   "cell_type": "markdown",
   "metadata": {},
   "source": [
    "Sort the lists"
   ]
  },
  {
   "cell_type": "code",
   "execution_count": 30,
   "metadata": {},
   "outputs": [],
   "source": [
    "sp500_wikipedia.sort()"
   ]
  },
  {
   "cell_type": "code",
   "execution_count": 31,
   "metadata": {},
   "outputs": [],
   "source": [
    "sp500_barchart.sort()"
   ]
  },
  {
   "cell_type": "markdown",
   "metadata": {},
   "source": [
    "Eyeball"
   ]
  },
  {
   "cell_type": "code",
   "execution_count": 32,
   "metadata": {},
   "outputs": [
    {
     "data": {
      "text/plain": [
       "['A', 'AAL', 'AAP', 'AAPL', 'ABBV', 'ABC', 'ABMD', 'ABT', 'ACN', 'ADBE']"
      ]
     },
     "execution_count": 32,
     "metadata": {},
     "output_type": "execute_result"
    }
   ],
   "source": [
    "sp500_wikipedia[:10]"
   ]
  },
  {
   "cell_type": "code",
   "execution_count": 33,
   "metadata": {},
   "outputs": [
    {
     "data": {
      "text/plain": [
       "['A', 'AAL', 'AAP', 'AAPL', 'ABBV', 'ABC', 'ABMD', 'ABT', 'ACN', 'ADBE']"
      ]
     },
     "execution_count": 33,
     "metadata": {},
     "output_type": "execute_result"
    }
   ],
   "source": [
    "sp500_barchart[:10]"
   ]
  },
  {
   "cell_type": "markdown",
   "metadata": {},
   "source": [
    "Difference between Wikipedia and Barchart"
   ]
  },
  {
   "cell_type": "code",
   "execution_count": 34,
   "metadata": {},
   "outputs": [],
   "source": [
    "diff_wikipedia_barchart = list(set(sp500_wikipedia) - set(sp500_barchart))"
   ]
  },
  {
   "cell_type": "code",
   "execution_count": 35,
   "metadata": {},
   "outputs": [
    {
     "data": {
      "text/plain": [
       "[]"
      ]
     },
     "execution_count": 35,
     "metadata": {},
     "output_type": "execute_result"
    }
   ],
   "source": [
    "diff_wikipedia_barchart"
   ]
  },
  {
   "cell_type": "markdown",
   "metadata": {},
   "source": [
    "There is no difference between the Wikipedia and Barchart lists."
   ]
  },
  {
   "cell_type": "markdown",
   "metadata": {},
   "source": [
    "### S&P MidCap 400 Index"
   ]
  },
  {
   "cell_type": "markdown",
   "metadata": {},
   "source": [
    "Sort the lists"
   ]
  },
  {
   "cell_type": "code",
   "execution_count": 36,
   "metadata": {},
   "outputs": [],
   "source": [
    "sp400_wikipedia.sort()"
   ]
  },
  {
   "cell_type": "code",
   "execution_count": 37,
   "metadata": {},
   "outputs": [],
   "source": [
    "sp400_barchart.sort()"
   ]
  },
  {
   "cell_type": "markdown",
   "metadata": {},
   "source": [
    "Eyeball"
   ]
  },
  {
   "cell_type": "code",
   "execution_count": 38,
   "metadata": {},
   "outputs": [
    {
     "data": {
      "text/plain": [
       "['AAN', 'ACC', 'ACHC', 'ACIW', 'ACM', 'ADNT', 'AEO', 'AFG', 'AGCO', 'AHL']"
      ]
     },
     "execution_count": 38,
     "metadata": {},
     "output_type": "execute_result"
    }
   ],
   "source": [
    "sp400_wikipedia[:10]"
   ]
  },
  {
   "cell_type": "code",
   "execution_count": 39,
   "metadata": {},
   "outputs": [
    {
     "data": {
      "text/plain": [
       "['AAN', 'ACC', 'ACHC', 'ACIW', 'ACM', 'ADNT', 'AEO', 'AFG', 'AGCO', 'ALE']"
      ]
     },
     "execution_count": 39,
     "metadata": {},
     "output_type": "execute_result"
    }
   ],
   "source": [
    "sp400_barchart[:10]"
   ]
  },
  {
   "cell_type": "markdown",
   "metadata": {},
   "source": [
    "Difference between Wikipedia and Barchart"
   ]
  },
  {
   "cell_type": "code",
   "execution_count": 40,
   "metadata": {},
   "outputs": [],
   "source": [
    "diff_wikipedia_barchart = list(set(sp400_wikipedia) - set(sp400_barchart))"
   ]
  },
  {
   "cell_type": "code",
   "execution_count": 41,
   "metadata": {},
   "outputs": [
    {
     "data": {
      "text/plain": [
       "['PBI', 'DO', 'NBR', 'GPOR', 'LHO', 'TFX', 'UNFI', 'SPN', 'EGN', 'ODP']"
      ]
     },
     "execution_count": 41,
     "metadata": {},
     "output_type": "execute_result"
    }
   ],
   "source": [
    "diff_wikipedia_barchart[:10]"
   ]
  },
  {
   "cell_type": "code",
   "execution_count": 42,
   "metadata": {},
   "outputs": [
    {
     "data": {
      "text/plain": [
       "28"
      ]
     },
     "execution_count": 42,
     "metadata": {},
     "output_type": "execute_result"
    }
   ],
   "source": [
    "len(diff_wikipedia_barchart)"
   ]
  },
  {
   "cell_type": "markdown",
   "metadata": {},
   "source": [
    "Difference between Barchart and Wikipedia"
   ]
  },
  {
   "cell_type": "code",
   "execution_count": 43,
   "metadata": {},
   "outputs": [],
   "source": [
    "diff_barchart_wikipedia = list(set(sp400_barchart) - set(sp400_wikipedia))"
   ]
  },
  {
   "cell_type": "code",
   "execution_count": 44,
   "metadata": {},
   "outputs": [
    {
     "data": {
      "text/plain": [
       "['EQT', 'YELP', 'AMED', 'BHF', 'TREX', 'GDOT', 'SMTC', 'PSB', 'WH', 'NGVT']"
      ]
     },
     "execution_count": 44,
     "metadata": {},
     "output_type": "execute_result"
    }
   ],
   "source": [
    "diff_barchart_wikipedia[:10]"
   ]
  },
  {
   "cell_type": "code",
   "execution_count": 45,
   "metadata": {},
   "outputs": [
    {
     "data": {
      "text/plain": [
       "28"
      ]
     },
     "execution_count": 45,
     "metadata": {},
     "output_type": "execute_result"
    }
   ],
   "source": [
    "len(diff_barchart_wikipedia)"
   ]
  },
  {
   "cell_type": "markdown",
   "metadata": {},
   "source": [
    "The difference between the two sources Wikipedia and Barchart lists is 28 tickers, which suggests that either Wikipedia list is outdated (Barchart contains updated tickers), or the inverse (Barchart is outdated)."
   ]
  },
  {
   "cell_type": "markdown",
   "metadata": {},
   "source": [
    "### S&P SmallCap 600 Index"
   ]
  },
  {
   "cell_type": "markdown",
   "metadata": {},
   "source": [
    "Sort the lists"
   ]
  },
  {
   "cell_type": "code",
   "execution_count": 46,
   "metadata": {},
   "outputs": [],
   "source": [
    "sp600_wikipedia.sort()"
   ]
  },
  {
   "cell_type": "code",
   "execution_count": 47,
   "metadata": {},
   "outputs": [],
   "source": [
    "sp600_barchart.sort()"
   ]
  },
  {
   "cell_type": "markdown",
   "metadata": {},
   "source": [
    "Eyeball"
   ]
  },
  {
   "cell_type": "code",
   "execution_count": 48,
   "metadata": {},
   "outputs": [
    {
     "data": {
      "text/plain": [
       "['AAOI', 'AAON', 'AAT', 'AAWW', 'AAXN', 'ABCB', 'ABG', 'ABM', 'ACET', 'ACLS']"
      ]
     },
     "execution_count": 48,
     "metadata": {},
     "output_type": "execute_result"
    }
   ],
   "source": [
    "sp600_wikipedia[:10]"
   ]
  },
  {
   "cell_type": "code",
   "execution_count": 49,
   "metadata": {},
   "outputs": [
    {
     "data": {
      "text/plain": [
       "['AAOI', 'AAON', 'AAT', 'AAWW', 'AAXN', 'ABCB', 'ABG', 'ABM', 'ACA', 'ACLS']"
      ]
     },
     "execution_count": 49,
     "metadata": {},
     "output_type": "execute_result"
    }
   ],
   "source": [
    "sp600_barchart[:10]"
   ]
  },
  {
   "cell_type": "markdown",
   "metadata": {},
   "source": [
    "Difference between Wikipedia and Barchart"
   ]
  },
  {
   "cell_type": "code",
   "execution_count": 50,
   "metadata": {},
   "outputs": [],
   "source": [
    "diff_wikipedia_barchart = list(set(sp600_wikipedia) - set(sp600_barchart))"
   ]
  },
  {
   "cell_type": "code",
   "execution_count": 51,
   "metadata": {},
   "outputs": [
    {
     "data": {
      "text/plain": [
       "['HYH', 'ILG', 'PERY', 'SONC', 'NTRI', 'FTD', 'AMED', 'EGL', 'GOV', 'PAY']"
      ]
     },
     "execution_count": 51,
     "metadata": {},
     "output_type": "execute_result"
    }
   ],
   "source": [
    "diff_wikipedia_barchart[:10]"
   ]
  },
  {
   "cell_type": "code",
   "execution_count": 52,
   "metadata": {
    "scrolled": true
   },
   "outputs": [
    {
     "data": {
      "text/plain": [
       "51"
      ]
     },
     "execution_count": 52,
     "metadata": {},
     "output_type": "execute_result"
    }
   ],
   "source": [
    "len(diff_wikipedia_barchart)"
   ]
  },
  {
   "cell_type": "markdown",
   "metadata": {},
   "source": [
    "Difference between Barchart and Wikipedia"
   ]
  },
  {
   "cell_type": "code",
   "execution_count": 53,
   "metadata": {},
   "outputs": [],
   "source": [
    "diff_barchart_wikipedia = list(set(sp600_barchart) - set(sp600_wikipedia))"
   ]
  },
  {
   "cell_type": "code",
   "execution_count": 54,
   "metadata": {},
   "outputs": [
    {
     "data": {
      "text/plain": [
       "['ADUS', 'ARLO', 'NRE', 'GPMT', 'ACA', 'PBI', 'MRCY', 'FOE', 'DO', 'ICHR']"
      ]
     },
     "execution_count": 54,
     "metadata": {},
     "output_type": "execute_result"
    }
   ],
   "source": [
    "diff_barchart_wikipedia[:10]"
   ]
  },
  {
   "cell_type": "code",
   "execution_count": 55,
   "metadata": {},
   "outputs": [
    {
     "data": {
      "text/plain": [
       "54"
      ]
     },
     "execution_count": 55,
     "metadata": {},
     "output_type": "execute_result"
    }
   ],
   "source": [
    "len(diff_barchart_wikipedia)"
   ]
  },
  {
   "cell_type": "markdown",
   "metadata": {},
   "source": [
    "In total, Wikipedia tickers in total are only 598, while Barchart tickers are a 601 (complete):\n",
    "- As previously noted, there 3 tickers missing in Wikipedia list which could be due to timing difference of update between S&P 400 and S&P 1000.\n",
    "- The difference between the two sources Wikipedia and Barchart lists is 51 tickers (excluding the 3 tickers which could be due to timing difference), which suggests that either  Wikipedia list is outdated (Barchart contains updated tickers), or the inverse (Barchart is outdated). "
   ]
  },
  {
   "cell_type": "markdown",
   "metadata": {},
   "source": [
    "## Conclusion"
   ]
  },
  {
   "cell_type": "markdown",
   "metadata": {},
   "source": [
    "To resume:\n",
    "- The S&P 500 constituents are consistent between the alternative sources Wikipedia and Barchart.\n",
    "- While the S&P 400 constituents between the two sources have 28 different tickers, which suggests that the two data providers were not updated on the same time.\n",
    "- The same remark can be raised for the S&P 600 constituents comparison where there are 51 different tickers. Also, the S&P 600 constituents list from Wikipedia, which was calculated from S&P 400 and S&P 1000 constituents lists, is missing 3 tickers which would suggests that the two indices were not updated on the same time.\n",
    "\n",
    "Recall that the initial step of the backtesting process is defining the investment universe, which we have completed in this exercise by retrieving the constituents list for the S&P indices.\n",
    "\n",
    "For the following step in the backtesting process, we need to gather historical data for each stock on the universe which we just defined. More on this on my next article."
   ]
  }
 ],
 "metadata": {
  "kernelspec": {
   "display_name": "Python 3",
   "language": "python",
   "name": "python3"
  },
  "language_info": {
   "codemirror_mode": {
    "name": "ipython",
    "version": 3
   },
   "file_extension": ".py",
   "mimetype": "text/x-python",
   "name": "python",
   "nbconvert_exporter": "python",
   "pygments_lexer": "ipython3",
   "version": "3.7.1"
  }
 },
 "nbformat": 4,
 "nbformat_minor": 2
}
